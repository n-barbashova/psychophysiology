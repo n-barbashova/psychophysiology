{
 "cells": [
  {
   "cell_type": "code",
   "execution_count": 1,
   "id": "3d7ee412",
   "metadata": {},
   "outputs": [],
   "source": [
    "#Import these libraries \n",
    "\n",
    "import bioread\n",
    "import pandas as pd\n",
    "from scipy.io import savemat\n",
    "import numpy as np\n",
    "import os\n"
   ]
  },
  {
   "cell_type": "code",
   "execution_count": 2,
   "id": "43bd7b06",
   "metadata": {},
   "outputs": [],
   "source": [
    "# test the bioread function on a few subjects' data - this gives us an idea of what it looks like  \n",
    "acq_dataset = bioread.read_file(\"/Users/nadezhdabarbashova/Library/CloudStorage/Dropbox/LEAP_Neuro_Lab/researchProjects/nadu/fmcc/data/acq_data/sub55/fmcc_sub55_task_0000.acq\")\n",
    "#acq_dataset = bioread.read_file(\"/Users/nadezhdabarbashova/Library/CloudStorage/Dropbox/LEAP_Neuro_Lab/researchProjects/nadu/fmcc/data/fmcc_w25/acq_data/sub50/fmcc_sub50_task_0000.acq\")\n",
    "#acq_dataset = bioread.read_file(\"/Users/nadezhdabarbashova/Library/CloudStorage/Dropbox/LEAP_Neuro_Lab/researchProjects/nadu/fmcc/data/fmcc_w25/acq_data/sub47/fmcc_sub47_task_0000.acq\")"
   ]
  },
  {
   "cell_type": "code",
   "execution_count": 3,
   "id": "8168fd88",
   "metadata": {},
   "outputs": [
    {
     "name": "stdout",
     "output_type": "stream",
     "text": [
      "12\n"
     ]
    }
   ],
   "source": [
    "#check how many columns in this dataset - important for later in the code when creating a dataframe\n",
    "num_cols = len(acq_dataset.channels)\n",
    "print(num_cols)\n",
    "\n",
    "#12 "
   ]
  },
  {
   "cell_type": "code",
   "execution_count": 4,
   "id": "112dcca7",
   "metadata": {},
   "outputs": [
    {
     "name": "stdout",
     "output_type": "stream",
     "text": [
      "       GSR - EDA100C  ECG - ECG100C  Feedback Cable - CBLCFMA - Current Feed  \\\n",
      "count  637449.000000  637449.000000                            637449.000000   \n",
      "mean       14.344690      -0.022685                                 0.314904   \n",
      "std         0.646204       0.485498                                 0.186155   \n",
      "min        13.294982      -2.623596                               -22.009277   \n",
      "25%        13.786315      -0.183105                                 0.305176   \n",
      "50%        14.260863      -0.011597                                 0.314331   \n",
      "75%        14.747619       0.140076                                 0.326538   \n",
      "max        16.430663       2.390442                                21.832275   \n",
      "\n",
      "       Stim - Custom, AMI / HLT - A16  Digital (STP Input 0)  \\\n",
      "count                   637449.000000          637449.000000   \n",
      "mean                        -0.196216               0.010824   \n",
      "std                          0.196302               0.232390   \n",
      "min                         -0.217586               0.000000   \n",
      "25%                         -0.205990               0.000000   \n",
      "50%                         -0.204159               0.000000   \n",
      "75%                         -0.202327               0.000000   \n",
      "max                          6.021608               5.000000   \n",
      "\n",
      "       Digital (STP Input 1)  Digital (STP Input 2)  Digital (STP Input 3)  \\\n",
      "count          637449.000000          637449.000000          637449.000000   \n",
      "mean                0.005177               0.010668               0.000941   \n",
      "std                 0.160803               0.230703               0.068596   \n",
      "min                 0.000000               0.000000               0.000000   \n",
      "25%                 0.000000               0.000000               0.000000   \n",
      "50%                 0.000000               0.000000               0.000000   \n",
      "75%                 0.000000               0.000000               0.000000   \n",
      "max                 5.000000               5.000000               5.000000   \n",
      "\n",
      "       Digital (STP Input 4)  Digital (STP Input 5)  Digital (STP Input 6)  \\\n",
      "count          637449.000000          637449.000000          637449.000000   \n",
      "mean                0.019766               0.000628               0.020080   \n",
      "std                 0.313753               0.056010               0.316223   \n",
      "min                 0.000000               0.000000               0.000000   \n",
      "25%                 0.000000               0.000000               0.000000   \n",
      "50%                 0.000000               0.000000               0.000000   \n",
      "75%                 0.000000               0.000000               0.000000   \n",
      "max                 5.000000               5.000000               5.000000   \n",
      "\n",
      "       Digital (STP Input 7)  \n",
      "count          637449.000000  \n",
      "mean                0.005349  \n",
      "std                 0.163458  \n",
      "min                 0.000000  \n",
      "25%                 0.000000  \n",
      "50%                 0.000000  \n",
      "75%                 0.000000  \n",
      "max                 5.000000  \n"
     ]
    }
   ],
   "source": [
    "# look at the data and see it. Export a test csv - optional \n",
    "\n",
    "data = {}\n",
    "for channel in acq_dataset.channels:\n",
    "    data[channel.name] = channel.data  # Use channel names as column headers\n",
    "\n",
    "# Convert to DataFrame\n",
    "df = pd.DataFrame(data)\n",
    "\n",
    "# Display basic statistics\n",
    "print(df.describe())\n",
    "\n",
    "# Export the DataFrame to CSV\n",
    "#output_path = \"/Users/nadezhdabarbashova/Library/CloudStorage/Dropbox/LEAP_Neuro_Lab/researchProjects/nadu/fmcc/data/fmcc_w25/fmcc_csv\"\n",
    "#df.to_csv(output_path, index=False, header=True)\n",
    "#print(f\"DataFrame successfully exported to {output_path}\") "
   ]
  },
  {
   "cell_type": "code",
   "execution_count": null,
   "id": "dc26678e",
   "metadata": {},
   "outputs": [],
   "source": [
    "\n"
   ]
  },
  {
   "cell_type": "code",
   "execution_count": 11,
   "id": "f48d06a6",
   "metadata": {},
   "outputs": [],
   "source": [
    "# Specify the paths to the folder you want to list\n",
    "\n",
    "# path where all the acq files are located \n",
    "biopacpath = '/Users/nadezhdabarbashova/Library/CloudStorage/Dropbox/LEAP_Neuro_Lab/researchProjects/nadu/fmcc/data/fmcc_w25/acq_data'\n",
    "\n",
    "# path to output the csv files \n",
    "outputdir = '/Users/nadezhdabarbashova/Library/CloudStorage/Dropbox/LEAP_Neuro_Lab/researchProjects/nadu/fmcc/data/fmcc_w25/fmcc_csv'\n",
    " \n",
    "# Use os.listdir() to get a list of all items (files and folders) in the specified folder\n",
    "# subjects = os.listdir(biopacpath)\n",
    "\n",
    "# list of subjects. Have them as character formats \n",
    "# make sure to check conventions like adding a 0 before \n",
    "subjects = [\"47\", \"49\", \"50\"]\n",
    "\n",
    "# remove this if it exists: \n",
    "#subjects.remove(\".DS_Store\")\n"
   ]
  },
  {
   "cell_type": "code",
   "execution_count": 16,
   "id": "aaccf62b",
   "metadata": {},
   "outputs": [
    {
     "name": "stdout",
     "output_type": "stream",
     "text": [
      "Processing file: fmcc_sub47_task_0000.acq\n",
      "folder not found - will be created\n",
      "done creating csv for fmcc_sub47_task_0000.acq\n",
      "Processing file: fmcc_sub47_task_0001.acq\n",
      "done creating csv for fmcc_sub47_task_0001.acq\n",
      "Processing file: fmcc_sub47_task_0003.acq\n",
      "done creating csv for fmcc_sub47_task_0003.acq\n",
      "Processing file: fmcc_sub47_task_0002.acq\n",
      "done creating csv for fmcc_sub47_task_0002.acq\n",
      "Processing file: fmcc_sub47_task_0006.acq\n",
      "done creating csv for fmcc_sub47_task_0006.acq\n",
      "Processing file: fmcc_sub47_task_0007.acq\n",
      "done creating csv for fmcc_sub47_task_0007.acq\n",
      "Processing file: fmcc_sub47_task_0005.acq\n",
      "done creating csv for fmcc_sub47_task_0005.acq\n",
      "Processing file: fmcc_sub47_task_0004.acq\n",
      "done creating csv for fmcc_sub47_task_0004.acq\n",
      "Processing file: fmcc_sub47_task_0008.acq\n",
      "done creating csv for fmcc_sub47_task_0008.acq\n",
      "Processing file: fmcc_sub49_task_0005.acq\n",
      "folder not found - will be created\n",
      "done creating csv for fmcc_sub49_task_0005.acq\n",
      "Processing file: fmcc_sub49_task_0004.acq\n",
      "done creating csv for fmcc_sub49_task_0004.acq\n",
      "Processing file: fmcc_sub49_task_0006.acq\n",
      "done creating csv for fmcc_sub49_task_0006.acq\n",
      "Processing file: fmcc_sub49_task_0007.acq\n",
      "done creating csv for fmcc_sub49_task_0007.acq\n",
      "Processing file: fmcc_sub49_task_0003.acq\n",
      "done creating csv for fmcc_sub49_task_0003.acq\n",
      "Processing file: fmcc_sub49_task_0002.acq\n",
      "done creating csv for fmcc_sub49_task_0002.acq\n",
      "Processing file: fmcc_sub49_task_0000.acq\n",
      "done creating csv for fmcc_sub49_task_0000.acq\n",
      "Processing file: fmcc_sub49_task_0001.acq\n",
      "done creating csv for fmcc_sub49_task_0001.acq\n",
      "Processing file: fmcc_sub49_task_0008.acq\n",
      "done creating csv for fmcc_sub49_task_0008.acq\n",
      "Processing file: fmcc_sub50_task_0000.acq\n",
      "folder not found - will be created\n",
      "done creating csv for fmcc_sub50_task_0000.acq\n",
      "Processing file: fmcc_sub50_task_0001.acq\n",
      "done creating csv for fmcc_sub50_task_0001.acq\n",
      "Processing file: fmcc_sub50_task_0003.acq\n",
      "done creating csv for fmcc_sub50_task_0003.acq\n",
      "Processing file: fmcc_sub50_task_0002.acq\n",
      "done creating csv for fmcc_sub50_task_0002.acq\n",
      "Processing file: fmcc_sub50_task_0006.acq\n",
      "done creating csv for fmcc_sub50_task_0006.acq\n",
      "Processing file: fmcc_sub50_task_0007.acq\n",
      "done creating csv for fmcc_sub50_task_0007.acq\n",
      "Processing file: fmcc_sub50_task_0005.acq\n",
      "done creating csv for fmcc_sub50_task_0005.acq\n",
      "Processing file: fmcc_sub50_task_0004.acq\n",
      "done creating csv for fmcc_sub50_task_0004.acq\n",
      "Processing file: fmcc_sub50_task_0008.acq\n",
      "done creating csv for fmcc_sub50_task_0008.acq\n"
     ]
    }
   ],
   "source": [
    "\n",
    "for sub in subjects:\n",
    "#Below convert the acq files to matlab files\n",
    "    inputdir = biopacpath + \"/sub\" + sub\n",
    "    allfiles = os.listdir(inputdir)\n",
    "    #print(f\"Files in directory {inputdir}: {allfiles}\")  # Debugging: list files\n",
    "\n",
    "    #Get the acq file names that only task related\n",
    "    # Check if the directory exists\n",
    "    if not os.path.exists(inputdir):\n",
    "        print(f\"Directory does not exist: {inputdir}\")\n",
    "        continue  # Skip this subject if directory doesn't exist\n",
    "\n",
    "    print(f\"Processing subject: {sub}\")  # Debugging: confirm subject being processed\n",
    "    #print(f\"directory: {inputdir}\")\n",
    "\n",
    "    # Find prefix for fmcc \n",
    "    # Then get task-related .acq files - must end with acq, must have task (no physio)\n",
    "     \n",
    "    taskfnli = [item for item in allfiles if item.endswith('.acq') and 'task' in item]\n",
    "    \n",
    "    #print(f\"Task-related files: {taskfnli}\")  # Debugging: check filtered files\n",
    "    \n",
    "    for inputfn in taskfnli:\n",
    "        print(f\"Processing file: {inputfn}\")\n",
    "        \n",
    "        # filename = main directory + filename of this acq file \n",
    "        fn = os.path.join(inputdir, inputfn)\n",
    "    \n",
    "        #there are only 12 channels. use bioread to extract info from each channel \n",
    "        acq_dataset = bioread.read_file(fn)\n",
    "        chan1 = acq_dataset.channels[0].data \n",
    "        chan2 = acq_dataset.channels[1].data\n",
    "        chan3 = acq_dataset.channels[2].data\n",
    "        chan4 = acq_dataset.channels[3].data\n",
    "        chan5 = acq_dataset.channels[4].data\n",
    "        chan6 = acq_dataset.channels[5].data\n",
    "        chan7 = acq_dataset.channels[6].data\n",
    "        chan8 = acq_dataset.channels[7].data\n",
    "        chan9 = acq_dataset.channels[8].data\n",
    "        chan10 = acq_dataset.channels[9].data\n",
    "        chan11 = acq_dataset.channels[10].data\n",
    "        chan12 = acq_dataset.channels[11].data\n",
    "\n",
    "        #make a dataframe\n",
    "        df = pd.DataFrame({\"1\": chan1, \"2\": chan2, \"3\": chan3, \"4\": chan4, \"5\": chan5, \n",
    "                   \"6\": chan6, \"7\": chan7, \"8\": chan8, \"9\": chan9, \"10\": chan10, \n",
    "                   \"11\": chan11, \"12\": chan12})\n",
    "\n",
    "       \n",
    "        #create output directory - main directory + sub## \n",
    "        outputsubdir = outputdir + \"/sub\" + sub\n",
    "        \n",
    "        #if the folder is not found - create a folder \n",
    "        if not os.path.exists(outputsubdir):\n",
    "            \n",
    "            # If it doesn't exist, create the folder\n",
    "            print(\"folder not found - will be created\")\n",
    "            os.makedirs(outputsubdir)   \n",
    "            #mat_fn = inputfn.replace(\".acq\", \".mat\")\n",
    "        \n",
    "        # cope the acq filename but now end it with csv \n",
    "        csv_fn = inputfn.replace(\".acq\", \".csv\")\n",
    "            \n",
    "        #mat_file = os.path.join(outputsubdir, mat_fn)\n",
    "        \n",
    "        csv_file = os.path.join(outputsubdir, csv_fn)\n",
    " \n",
    "        # Save the NumPy array to a MATLAB file\n",
    "        #savemat(mat_file, {'data': df.to_numpy()})\n",
    "            \n",
    "        # turn the df into a csv file and save it to the csv file directory \n",
    "        df.to_csv(csv_file, index=False)\n",
    "        print(f\"done creating csv for {inputfn}\")\n",
    "        \n",
    "        \n",
    "print(\"done processing all subjects\")\n"
   ]
  },
  {
   "cell_type": "code",
   "execution_count": null,
   "id": "79ff3537",
   "metadata": {},
   "outputs": [],
   "source": [
    "\n",
    "            # Below just to get the sample rate\n",
    "            #         run=0\n",
    "            #         inputdir = biopacpath + \"/\" + sub\n",
    "            #         inputfn = \"AA_task_\" + sub + \"_000\" + str(run) + \".acq\"\n",
    "            #         fn = os.path.join(inputdir, inputfn)\n",
    "            #\n",
    "            #         acq_dataset=bioread.read_file(fn)\n",
    "            #         EDASampleRate.append(acq_dataset.channels[0].samples_per_second)\n",
    "            #         TrigerSampleRate.append(acq_dataset.channels[2].samples_per_second)\n",
    "            #         subli.append(sub)\n",
    "            #         runli.append(run)\n",
    "            #\n",
    "            # #make dataframe and save\n",
    "            # sampleRdf = pd.DataFrame({\"participant\": subli, \"run\": runli, \"EDASampleRate\": EDASampleRate, \"TrigerSampleRate\":TrigerSampleRate})\n",
    "            # sampleRdf.to_csv(\"/Users/jingyiwang/Dropbox/LEAP_Neuro_Lab/researchProjects/jingyi_documents/emotion_motor_grant/AA_fMRIAnalyses/EDAAnalysis/SampleRate.csv\", index=False)"
   ]
  },
  {
   "cell_type": "code",
   "execution_count": 17,
   "id": "aae6f962",
   "metadata": {},
   "outputs": [
    {
     "name": "stdout",
     "output_type": "stream",
     "text": [
      "/Users/nadezhdabarbashova/Library/CloudStorage/Dropbox/LEAP_Neuro_Lab/researchProjects/nadu/fmcc/data/fmcc_w25/acq_data\n"
     ]
    }
   ],
   "source": [
    "print(biopacpath)"
   ]
  },
  {
   "cell_type": "code",
   "execution_count": 12,
   "id": "66e33da7",
   "metadata": {},
   "outputs": [
    {
     "name": "stdout",
     "output_type": "stream",
     "text": [
      "4\n"
     ]
    }
   ],
   "source": [
    "print(sub)"
   ]
  },
  {
   "cell_type": "code",
   "execution_count": null,
   "id": "f2b88682",
   "metadata": {},
   "outputs": [],
   "source": []
  },
  {
   "cell_type": "code",
   "execution_count": null,
   "id": "7ffe4a38",
   "metadata": {},
   "outputs": [],
   "source": []
  },
  {
   "cell_type": "code",
   "execution_count": null,
   "id": "0d598a45",
   "metadata": {},
   "outputs": [],
   "source": []
  },
  {
   "cell_type": "code",
   "execution_count": null,
   "id": "c05703ba",
   "metadata": {},
   "outputs": [],
   "source": []
  }
 ],
 "metadata": {
  "kernelspec": {
   "display_name": "Python 3 (ipykernel)",
   "language": "python",
   "name": "python3"
  },
  "language_info": {
   "codemirror_mode": {
    "name": "ipython",
    "version": 3
   },
   "file_extension": ".py",
   "mimetype": "text/x-python",
   "name": "python",
   "nbconvert_exporter": "python",
   "pygments_lexer": "ipython3",
   "version": "3.11.5"
  }
 },
 "nbformat": 4,
 "nbformat_minor": 5
}
