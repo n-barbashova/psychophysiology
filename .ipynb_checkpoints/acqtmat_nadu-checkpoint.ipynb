{
 "cells": [
  {
   "cell_type": "code",
   "execution_count": 1,
   "id": "3d7ee412",
   "metadata": {},
   "outputs": [],
   "source": [
    "# check sub03 file - see the order of shocks and stims \n",
    "import bioread\n",
    "import pandas as pd\n",
    "from scipy.io import savemat\n",
    "import numpy as np\n",
    "import os\n"
   ]
  },
  {
   "cell_type": "code",
   "execution_count": 2,
   "id": "43bd7b06",
   "metadata": {},
   "outputs": [],
   "source": [
    "#This code export the sample rate for each participant and convert acq file into mat file\n",
    "# EDASampleRate = []\n",
    "# TrigerSampleRate = []\n",
    "# subli = []\n",
    "# runli = []\n",
    "\n",
    "# test the bioread function \n",
    "acq_dataset = bioread.read_file(\"/Users/nadezhdabarbashova/Documents/fmcc/data/sub03/fmcc_sub03_physio_0000.acq\")\n",
    " \n"
   ]
  },
  {
   "cell_type": "code",
   "execution_count": 6,
   "id": "112dcca7",
   "metadata": {},
   "outputs": [
    {
     "name": "stdout",
     "output_type": "stream",
     "text": [
      "       GSR - EDA100C  CORR - EMG100C  ECG - ECG100C  \\\n",
      "count  244344.000000   244344.000000  244344.000000   \n",
      "mean       -3.234111       -0.008499      -0.007805   \n",
      "std         1.148732        0.036147       0.673383   \n",
      "min        -5.784911       -0.170898      -1.989136   \n",
      "25%        -3.952330       -0.032043      -0.300903   \n",
      "50%        -3.085631       -0.007629      -0.220032   \n",
      "75%        -2.362365        0.015259       0.089417   \n",
      "max        -1.677245        0.160217       3.892212   \n",
      "\n",
      "       Feedback Cable - CBLCFMA - Current Feed  \\\n",
      "count                            244344.000000   \n",
      "mean                                  0.303934   \n",
      "std                                   0.016050   \n",
      "min                                   0.234985   \n",
      "25%                                   0.292969   \n",
      "50%                                   0.305176   \n",
      "75%                                   0.314331   \n",
      "max                                   0.378418   \n",
      "\n",
      "       Stim - Custom, AMI / HLT - A16  Digital (STP Input 0)  \\\n",
      "count                   244344.000000               244344.0   \n",
      "mean                         0.060575                    0.0   \n",
      "std                          0.002854                    0.0   \n",
      "min                          0.049437                    0.0   \n",
      "25%                          0.058593                    0.0   \n",
      "50%                          0.060424                    0.0   \n",
      "75%                          0.062560                    0.0   \n",
      "max                          0.072020                    0.0   \n",
      "\n",
      "       Digital (STP Input 1)  Digital (STP Input 2)  Digital (STP Input 3)  \\\n",
      "count               244344.0               244344.0               244344.0   \n",
      "mean                     0.0                    5.0                    0.0   \n",
      "std                      0.0                    0.0                    0.0   \n",
      "min                      0.0                    5.0                    0.0   \n",
      "25%                      0.0                    5.0                    0.0   \n",
      "50%                      0.0                    5.0                    0.0   \n",
      "75%                      0.0                    5.0                    0.0   \n",
      "max                      0.0                    5.0                    0.0   \n",
      "\n",
      "       Digital (STP Input 4)  Digital (STP Input 5)  Digital (STP Input 6)  \\\n",
      "count               244344.0               244344.0               244344.0   \n",
      "mean                     0.0                    0.0                    0.0   \n",
      "std                      0.0                    0.0                    0.0   \n",
      "min                      0.0                    0.0                    0.0   \n",
      "25%                      0.0                    0.0                    0.0   \n",
      "50%                      0.0                    0.0                    0.0   \n",
      "75%                      0.0                    0.0                    0.0   \n",
      "max                      0.0                    0.0                    0.0   \n",
      "\n",
      "       Digital (STP Input 7)  \n",
      "count               244344.0  \n",
      "mean                     0.0  \n",
      "std                      0.0  \n",
      "min                      0.0  \n",
      "25%                      0.0  \n",
      "50%                      0.0  \n",
      "75%                      0.0  \n",
      "max                      0.0  \n",
      "DataFrame successfully exported to /Users/nadezhdabarbashova/Documents/fmcc/data/sub03/fmcc_sub03_physio_data.csv\n"
     ]
    }
   ],
   "source": [
    "data = {}\n",
    "for channel in acq_dataset.channels:\n",
    "    data[channel.name] = channel.data  # Use channel names as column headers\n",
    "\n",
    "# Convert to DataFrame\n",
    "df = pd.DataFrame(data)\n",
    "\n",
    "# Display basic statistics\n",
    "print(df.describe())\n",
    "\n",
    "# Export the DataFrame to CSV\n",
    "output_path = \"/Users/nadezhdabarbashova/Documents/fmcc/data/sub03/fmcc_sub03_physio_data.csv\"\n",
    "df.to_csv(output_path, index=False, header=True)\n",
    "\n",
    "print(f\"DataFrame successfully exported to {output_path}\") "
   ]
  },
  {
   "cell_type": "code",
   "execution_count": null,
   "id": "7eaf467e",
   "metadata": {},
   "outputs": [],
   "source": [
    "\n"
   ]
  },
  {
   "cell_type": "code",
   "execution_count": 13,
   "id": "f48d06a6",
   "metadata": {},
   "outputs": [],
   "source": [
    "# Specify the paths to the folder you want to list\n",
    "\n",
    "# path where all the acq files are located \n",
    "biopacpath = '/Users/nadezhdabarbashova/Documents/fmcc/data'\n",
    "\n",
    "# path to output the csv files \n",
    "outputdir = '/Users/nadezhdabarbashova/Documents/fmcc/data/fmcc_csv'\n",
    " \n",
    "# Use os.listdir() to get a list of all items (files and folders) in the specified folder\n",
    "# subjects = os.listdir(biopacpath)\n",
    "\n",
    "subjects = [\"03\"]\n",
    "\n",
    "# remove this if it exists: \n",
    "#subjects.remove(\".DS_Store\")\n",
    "\n",
    "# subjects = ['044']\n",
    "# file_path = \"/Volumes/labshare/Jingyi/EmotionMotor_project/AA_fMRI/biopac/061/AA_task_061_0001.acq\"\n",
    "\n"
   ]
  },
  {
   "cell_type": "code",
   "execution_count": 15,
   "id": "aaccf62b",
   "metadata": {},
   "outputs": [],
   "source": [
    "\n",
    "for sub in subjects:\n",
    "#Below convert the acq files to matlab files\n",
    "    inputdir = biopacpath + \"/sub\" + sub\n",
    "    allfiles = os.listdir(inputdir)\n",
    "        #Get the acq file names that only task related\n",
    "\n",
    "    # find prefix for fmcc \n",
    "    # Get task-related .acq files - must end with acq, must have task (no physio)\n",
    "    taskfnli = [item for item in allfiles if item.endswith('.acq') and 'task' in item]\n",
    "    \n",
    "    for inputfn in taskfnli:\n",
    "        # inputfn = \"AA_task_\" + sub + \"_000\" + str(run) + \".acq\"\n",
    "        fn = os.path.join(inputdir, inputfn)\n",
    "        acq_dataset = bioread.read_file(fn)\n",
    "\n",
    "        chan1 = acq_dataset.channels[0].data \n",
    "        chan2 = acq_dataset.channels[1].data\n",
    "        chan3 = acq_dataset.channels[2].data\n",
    "        chan4 = acq_dataset.channels[3].data\n",
    "        chan5 = acq_dataset.channels[4].data\n",
    "        chan6 = acq_dataset.channels[5].data\n",
    "        chan7 = acq_dataset.channels[6].data\n",
    "        chan8 = acq_dataset.channels[7].data\n",
    "        chan9 = acq_dataset.channels[8].data\n",
    "        chan10 = acq_dataset.channels[9].data\n",
    "        chan11 = acq_dataset.channels[10].data\n",
    "        chan12 = acq_dataset.channels[11].data\n",
    "        chan13 = acq_dataset.channels[12].data\n",
    "\n",
    "        #make a dataframe\n",
    "        df = pd.DataFrame({\"1\": chan1, \"2\": chan2, \"3\": chan3, \"4\": chan4, \"5\": chan5})\n",
    "       \n",
    "    #save as matlab file\n",
    "        outputsubdir = outputdir + \"/\" + sub\n",
    "        if not os.path.exists(outputsubdir):\n",
    "            # If it doesn't exist, create the folder\n",
    "            os.makedirs(outputsubdir)\n",
    "            #mat_fn = inputfn.replace(\".acq\", \".mat\")\n",
    "            csv_fn = inputfn.replace(\".acq\", \".csv\")\n",
    "            \n",
    "            #mat_file = os.path.join(outputsubdir, mat_fn)\n",
    "            csv_file = os.path.join(outputsubdir, csv_fn)\n",
    "\n",
    "            # Save the NumPy array to a MATLAB file\n",
    "            #savemat(mat_file, {'data': df.to_numpy()})\n",
    "            \n",
    "            # turn the df into a csv file \n",
    "            df.to_csv(csv_file, index=False)\n",
    "            print(\"done w/ this file\")\n",
    "\n",
    "            # Below just to get the sample rate\n",
    "            #         run=0\n",
    "            #         inputdir = biopacpath + \"/\" + sub\n",
    "            #         inputfn = \"AA_task_\" + sub + \"_000\" + str(run) + \".acq\"\n",
    "            #         fn = os.path.join(inputdir, inputfn)\n",
    "            #\n",
    "            #         acq_dataset=bioread.read_file(fn)\n",
    "            #         EDASampleRate.append(acq_dataset.channels[0].samples_per_second)\n",
    "            #         TrigerSampleRate.append(acq_dataset.channels[2].samples_per_second)\n",
    "            #         subli.append(sub)\n",
    "            #         runli.append(run)\n",
    "            #\n",
    "            # #make dataframe and save\n",
    "            # sampleRdf = pd.DataFrame({\"participant\": subli, \"run\": runli, \"EDASampleRate\": EDASampleRate, \"TrigerSampleRate\":TrigerSampleRate})\n",
    "            # sampleRdf.to_csv(\"/Users/jingyiwang/Dropbox/LEAP_Neuro_Lab/researchProjects/jingyi_documents/emotion_motor_grant/AA_fMRIAnalyses/EDAAnalysis/SampleRate.csv\", index=False)"
   ]
  },
  {
   "cell_type": "code",
   "execution_count": null,
   "id": "59dbe0ba",
   "metadata": {},
   "outputs": [],
   "source": []
  },
  {
   "cell_type": "code",
   "execution_count": 17,
   "id": "aae6f962",
   "metadata": {},
   "outputs": [
    {
     "name": "stdout",
     "output_type": "stream",
     "text": [
      "/Volumes/labshare/Nadu/fmcc/\n"
     ]
    }
   ],
   "source": [
    "print(biopacpath)"
   ]
  },
  {
   "cell_type": "code",
   "execution_count": 12,
   "id": "66e33da7",
   "metadata": {},
   "outputs": [
    {
     "name": "stdout",
     "output_type": "stream",
     "text": [
      "4\n"
     ]
    }
   ],
   "source": [
    "print(sub)"
   ]
  },
  {
   "cell_type": "code",
   "execution_count": null,
   "id": "f2b88682",
   "metadata": {},
   "outputs": [],
   "source": []
  },
  {
   "cell_type": "code",
   "execution_count": null,
   "id": "5a7a7ccd",
   "metadata": {},
   "outputs": [],
   "source": []
  },
  {
   "cell_type": "code",
   "execution_count": null,
   "id": "218f6ed4",
   "metadata": {},
   "outputs": [],
   "source": []
  },
  {
   "cell_type": "code",
   "execution_count": null,
   "id": "73161331",
   "metadata": {},
   "outputs": [],
   "source": []
  }
 ],
 "metadata": {
  "kernelspec": {
   "display_name": "Python 3 (ipykernel)",
   "language": "python",
   "name": "python3"
  },
  "language_info": {
   "codemirror_mode": {
    "name": "ipython",
    "version": 3
   },
   "file_extension": ".py",
   "mimetype": "text/x-python",
   "name": "python",
   "nbconvert_exporter": "python",
   "pygments_lexer": "ipython3",
   "version": "3.11.5"
  }
 },
 "nbformat": 4,
 "nbformat_minor": 5
}
